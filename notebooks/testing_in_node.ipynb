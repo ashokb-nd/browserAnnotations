{
 "cells": [
  {
   "cell_type": "code",
   "execution_count": 1,
   "id": "e341b060",
   "metadata": {},
   "outputs": [],
   "source": [
    "const MetadataToAnnotationConverter = require('./annotations/metadata-to-annotation-converter.js');\n",
    "let manifest, metadata;"
   ]
  },
  {
   "cell_type": "code",
   "execution_count": 2,
   "id": "879a4a88",
   "metadata": {},
   "outputs": [
    {
     "name": "stderr",
     "output_type": "stream",
     "text": [
      "TypeError: MetadataToAnnotationConverter.convertToManifest is not a function\n",
      "    at evalmachine.<anonymous>:9:44\n",
      "    at FSReqCallback.readFileAfterClose [as oncomplete] (node:internal/fs/read/context:68:3)"
     ]
    }
   ],
   "source": [
    "// read metadata from a file\n",
    "const fs = require('fs');\n",
    "fs.readFile('/Users/batakalaashok/Documents/browserAnnotations/assets/1/metadata.json', 'utf8', (err, data) => {\n",
    "  if (err) {\n",
    "    console.error('Error reading metadata file:', err);\n",
    "    return;\n",
    "  }\n",
    "  metadata = JSON.parse(data);\n",
    "  manifest = MetadataToAnnotationConverter.convertToManifest(metadata);\n",
    "  console.log('Manifest:', manifest);\n",
    "});"
   ]
  },
  {
   "cell_type": "code",
   "execution_count": null,
   "id": "6efb4561-2ecd-48d2-89d2-ce1544ace949",
   "metadata": {},
   "outputs": [
    {
     "data": {
      "text/plain": [
       "Promise { <pending> }"
      ]
     },
     "execution_count": 3,
     "metadata": {},
     "output_type": "execute_result"
    },
    {
     "name": "stderr",
     "output_type": "stream",
     "text": [
      "TypeError: MetadataToAnnotationConverter.convertToManifest is not a function\n",
      "    at evalmachine.<anonymous>:5:50\n",
      "    at evalmachine.<anonymous>:11:3\n",
      "    at Script.runInThisContext (node:vm:137:12)\n",
      "    at Object.runInThisContext (node:vm:317:38)\n",
      "    at run ([eval]:1020:15)\n",
      "    at onRunRequest ([eval]:864:18)\n",
      "    at onMessage ([eval]:828:13)\n",
      "    at process.emit (node:events:524:28)\n",
      "    at emit (node:internal/child_process:950:14)\n",
      "    at process.processTicksAndRejections (node:internal/process/task_queues:83:21)\n"
     ]
    }
   ],
   "source": [
    "\n",
    "\n",
    "(async() => {\n",
    "  const metadata = { /* your metadata here */ };\n",
    "  manifest = await MetadataToAnnotationConverter.convertToManifest(\n",
    "    metadata, \n",
    "    ['detection', 'tracking'],\n",
    "    { debugMode: true }\n",
    "    );\n",
    "    console.log(manifest);\n",
    "})().catch(console.error);\n"
   ]
  },
  {
   "cell_type": "code",
   "execution_count": 2,
   "id": "500b22a7",
   "metadata": {},
   "outputs": [
    {
     "name": "stdout",
     "output_type": "stream",
     "text": [
      "Image saved as output.png\n"
     ]
    }
   ],
   "source": [
    "const fs = require('fs');\n",
    "const buffer = canvas.toBuffer('image/png');\n",
    "fs.writeFileSync('output.png', buffer);\n",
    "console.log('Image saved as output.png');"
   ]
  },
  {
   "cell_type": "code",
   "execution_count": 3,
   "id": "2855afa6",
   "metadata": {},
   "outputs": [
    {
     "name": "stdout",
     "output_type": "stream",
     "text": [
      "<img src=\"data:image/png;base64,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\" width=\"300\" height=\"200\" />\n"
     ]
    }
   ],
   "source": [
    "const dataURL = canvas.toDataURL();\n",
    "console.log(`<img src=\"${dataURL}\" width=\"300\" height=\"200\" />`);"
   ]
  },
  {
   "cell_type": "code",
   "execution_count": 4,
   "id": "24b381cc",
   "metadata": {},
   "outputs": [
    {
     "ename": "SyntaxError",
     "evalue": "Identifier 'fs' has already been declared",
     "output_type": "error",
     "traceback": [
      "evalmachine.<anonymous>:1",
      "// Display the saved PNG file directly",
      "^",
      "",
      "SyntaxError: Identifier 'fs' has already been declared",
      "    at Script.runInThisContext (node:vm:137:12)",
      "    at Object.runInThisContext (node:vm:317:38)",
      "    at run ([eval]:1020:15)",
      "    at onRunRequest ([eval]:864:18)",
      "    at onMessage ([eval]:828:13)",
      "    at process.emit (node:events:524:28)",
      "    at emit (node:internal/child_process:950:14)",
      "    at process.processTicksAndRejections (node:internal/process/task_queues:83:21)"
     ]
    }
   ],
   "source": [
    "// Display the saved PNG file directly\n",
    "const fs = require('fs');\n",
    "const path = require('path');\n",
    "\n",
    "// Read the saved PNG file and convert to base64\n",
    "const imagePath = '/Users/batakalaashok/Documents/browserAnnotations/output.png';\n",
    "const imageBuffer = fs.readFileSync(imagePath);\n",
    "const imageBase64 = imageBuffer.toString('base64');\n",
    "const imageDataURL = `data:image/png;base64,${imageBase64}`;\n",
    "\n",
    "console.log(`<img src=\"${imageDataURL}\" width=\"300\" height=\"200\" />`);"
   ]
  },
  {
   "cell_type": "code",
   "execution_count": null,
   "id": "51f985ed",
   "metadata": {},
   "outputs": [],
   "source": []
  }
 ],
 "metadata": {
  "kernelspec": {
   "display_name": "JavaScript (Node.js)",
   "language": "javascript",
   "name": "javascript"
  },
  "language_info": {
   "file_extension": ".js",
   "mimetype": "application/javascript",
   "name": "javascript",
   "version": "20.19.4"
  }
 },
 "nbformat": 4,
 "nbformat_minor": 5
}
