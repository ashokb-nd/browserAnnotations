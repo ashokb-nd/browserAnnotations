{
 "cells": [
  {
   "cell_type": "code",
   "execution_count": 59,
   "id": "8025be7a-1254-4ff8-96f6-35b997167b4f",
   "metadata": {},
   "outputs": [],
   "source": [
    "import json\n",
    "import numpy as np"
   ]
  },
  {
   "cell_type": "code",
   "execution_count": 4,
   "id": "0a6b6c4b-bf24-43f7-bfc7-89b1d5cacdc9",
   "metadata": {},
   "outputs": [],
   "source": [
    "metadata_path = \"/Users/batakalaashok/Documents/browserAnnotations/assets/1/metadata.json\"\n",
    "with open(metadata_path,'r') as f:\n",
    "    metadata = json.load(f)"
   ]
  },
  {
   "cell_type": "code",
   "execution_count": 7,
   "id": "7e734744-6186-47d5-8587-38c7de553369",
   "metadata": {},
   "outputs": [
    {
     "data": {
      "text/plain": [
       "True"
      ]
     },
     "execution_count": 7,
     "metadata": {},
     "output_type": "execute_result"
    }
   ],
   "source": [
    "'inference_data' in metadata.keys()"
   ]
  },
  {
   "cell_type": "code",
   "execution_count": 21,
   "id": "d2eb80c6-a6ef-4f5c-9479-4490498f5e99",
   "metadata": {},
   "outputs": [],
   "source": [
    "inward = metadata.get('inference_data',{}).get('inward',{})"
   ]
  },
  {
   "cell_type": "code",
   "execution_count": 18,
   "id": "ac31286e-dadc-4338-ad04-4d58f34df776",
   "metadata": {},
   "outputs": [
    {
     "data": {
      "text/plain": [
       "dict_keys(['fatigue_score', 'drowsy_model_version', 'context_scale', 'binned_dist', 'face_bbox_used_count', 'classes_binned'])"
      ]
     },
     "execution_count": 18,
     "metadata": {},
     "output_type": "execute_result"
    }
   ],
   "source": [
    "drowsy.keys()"
   ]
  },
  {
   "cell_type": "code",
   "execution_count": 25,
   "id": "afba8597-d05b-4334-8374-5dead84a011e",
   "metadata": {},
   "outputs": [
    {
     "name": "stdout",
     "output_type": "stream",
     "text": [
      "detections\n"
     ]
    }
   ],
   "source": [
    "for key in inward.keys():\n",
    "    if ('drowsy_scores' in str(inward[key])):\n",
    "        print(key)"
   ]
  },
  {
   "cell_type": "code",
   "execution_count": 27,
   "id": "639b5e81-30db-4fbb-8566-7e8aff838327",
   "metadata": {},
   "outputs": [],
   "source": [
    "det = inward['detections']"
   ]
  },
  {
   "cell_type": "code",
   "execution_count": 28,
   "id": "cf87b8f4-30f4-41e5-bbf1-3449f3c76801",
   "metadata": {},
   "outputs": [
    {
     "data": {
      "text/plain": [
       "301"
      ]
     },
     "execution_count": 28,
     "metadata": {},
     "output_type": "execute_result"
    }
   ],
   "source": [
    "len(det)"
   ]
  },
  {
   "cell_type": "code",
   "execution_count": 35,
   "id": "21afb2de-b2f5-4f9a-8636-9ed64450bbcf",
   "metadata": {},
   "outputs": [],
   "source": [
    "temp = [i for i in range(301) if det[i]['drowsy_scores'][0] !=-3]"
   ]
  },
  {
   "cell_type": "code",
   "execution_count": 37,
   "id": "d067334f-43a2-4825-9f12-ae6d399c98b3",
   "metadata": {},
   "outputs": [
    {
     "data": {
      "text/plain": [
       "60"
      ]
     },
     "execution_count": 37,
     "metadata": {},
     "output_type": "execute_result"
    }
   ],
   "source": [
    "len(temp)"
   ]
  },
  {
   "cell_type": "code",
   "execution_count": 43,
   "id": "4503a37e-f8ab-45b4-a504-e445c803b449",
   "metadata": {},
   "outputs": [],
   "source": [
    "import matplotlib.pyplot as plt\n",
    "import pandas as pd"
   ]
  },
  {
   "cell_type": "code",
   "execution_count": 42,
   "id": "3370459c-b5bd-43be-801e-dd6287c0c65c",
   "metadata": {},
   "outputs": [
    {
     "name": "stdout",
     "output_type": "stream",
     "text": [
      "\u001b[2K\u001b[2mResolved \u001b[1m6 packages\u001b[0m \u001b[2min 225ms\u001b[0m\u001b[0m                                         \u001b[0m\n",
      "\u001b[2K\u001b[2mPrepared \u001b[1m1 package\u001b[0m \u001b[2min 21.23s\u001b[0m\u001b[0m                                             \n",
      "\u001b[2K\u001b[2mInstalled \u001b[1m3 packages\u001b[0m \u001b[2min 115ms\u001b[0m\u001b[0m                               \u001b[0m\n",
      " \u001b[32m+\u001b[39m \u001b[1mpandas\u001b[0m\u001b[2m==2.3.1\u001b[0m\n",
      " \u001b[32m+\u001b[39m \u001b[1mpytz\u001b[0m\u001b[2m==2025.2\u001b[0m\n",
      " \u001b[32m+\u001b[39m \u001b[1mtzdata\u001b[0m\u001b[2m==2025.2\u001b[0m\n"
     ]
    }
   ],
   "source": []
  },
  {
   "cell_type": "code",
   "execution_count": 48,
   "id": "0073d7af-bf2e-4be6-9269-76ce5241f620",
   "metadata": {},
   "outputs": [
    {
     "data": {
      "text/plain": [
       "True"
      ]
     },
     "execution_count": 48,
     "metadata": {},
     "output_type": "execute_result"
    }
   ],
   "source": [
    "\"positionsInLane\" in str(metadata.get('inference_data').get('observations_data'))"
   ]
  },
  {
   "cell_type": "code",
   "execution_count": 55,
   "id": "308d5fcc-584a-48d7-bbe8-47ba55c24fb7",
   "metadata": {},
   "outputs": [],
   "source": [
    "PIL = metadata.get('inference_data').get('observations_data').get('positionsInLane',{})\n"
   ]
  },
  {
   "cell_type": "code",
   "execution_count": 61,
   "id": "e2cc66b1-081d-49dc-9bb3-40eb634f25c3",
   "metadata": {},
   "outputs": [],
   "source": [
    "x,y=np.array(PIL).T"
   ]
  },
  {
   "cell_type": "code",
   "execution_count": 65,
   "id": "600d143e-cf65-44a8-a0dc-bcaa5518610a",
   "metadata": {},
   "outputs": [
    {
     "data": {
      "image/png": "[encoded data removed]",
      "text/plain": [
       "<Figure size 640x480 with 1 Axes>"
      ]
     },
     "metadata": {},
     "output_type": "display_data"
    }
   ],
   "source": [
    "plt.plot(y)\n",
    "plt.ylim(-0.5,0.5)\n",
    "plt.grid()\n"
   ]
  },
  {
   "cell_type": "code",
   "execution_count": null,
   "id": "a48b6fa1-bf06-4437-8586-275951c18f7c",
   "metadata": {},
   "outputs": [],
   "source": []
  }
 ],
 "metadata": {
  "kernelspec": {
   "display_name": "Python 3 (ipykernel)",
   "language": "python",
   "name": "python3"
  },
  "language_info": {
   "codemirror_mode": {
    "name": "ipython",
    "version": 3
   },
   "file_extension": ".py",
   "mimetype": "text/x-python",
   "name": "python",
   "nbconvert_exporter": "python",
   "pygments_lexer": "ipython3",
   "version": "3.13.5"
  }
 },
 "nbformat": 4,
 "nbformat_minor": 5
}
